{
 "cells": [
  {
   "cell_type": "markdown",
   "metadata": {},
   "source": [
    "# Importing libraries"
   ]
  },
  {
   "cell_type": "code",
   "execution_count": null,
   "metadata": {},
   "outputs": [],
   "source": [
    "import arcpy\n",
    "from arcpy.sa import *\n",
    "import requests\n",
    "import wget\n",
    "import os\n",
    "import zipfile"
   ]
  },
  {
   "cell_type": "markdown",
   "metadata": {},
   "source": [
    "# Setting up the environment"
   ]
  },
  {
   "cell_type": "code",
   "execution_count": null,
   "metadata": {},
   "outputs": [],
   "source": [
    "# To allow overwriting outputs change overwriteOutput option to True.\n",
    "arcpy.env.overwriteOutput = True\n",
    "arcpy.CheckOutExtension(\"spatial\")\n",
    "Woriking_env = \"Set the working environment as the 'Input' folder in master folder in the Github\""
   ]
  },
  {
   "cell_type": "markdown",
   "metadata": {},
   "source": [
    "# Importing GADM data"
   ]
  },
  {
   "cell_type": "code",
   "execution_count": null,
   "metadata": {},
   "outputs": [],
   "source": [
    "#Data sources : https://geodata.ucdavis.edu/gadm/gadm4.0/gadm404-shp.zip\n",
    "#Setting the gadm shapefile url \n",
    "    url = 'https://geodata.ucdavis.edu/gadm/gadm4.0/gadm404-shp.zip'\n",
    "#Downloading the data\n",
    "    wget.download(url)\n",
    "#Unzip the data\n",
    "    with zipfile.ZipFile('gadm404-shp.zip') as zip_ref: zip_ref.extractall('gadm')"
   ]
  },
  {
   "cell_type": "markdown",
   "metadata": {},
   "source": [
    "# Dissolving the regions data at the first order of administrative level"
   ]
  },
  {
   "cell_type": "code",
   "execution_count": null,
   "metadata": {},
   "outputs": [],
   "source": [
    "#Setting the inner variables\n",
    "    print(\"Setting up the variables\")\n",
    "    GADM_shapefile = \"Input/gadm/gadm404.shp\"\n",
    "    in_zone_data = \"Input/gadm/GADM_GID_1.shp\" #the level of data that is used as spatial unit for the analysis\n",
    "    zone_field = \"GID_1\"\n",
    "\n",
    "#Dissolving the shapefile\n",
    "    print(\"Dissolving the shapefile fields\")\n",
    "    arcpy.management.Dissolve(GADM_shapefile, in_zone_data, zone_field)"
   ]
  },
  {
   "cell_type": "markdown",
   "metadata": {},
   "source": [
    "# Merging the GDL maps with the GADM"
   ]
  },
  {
   "cell_type": "code",
   "execution_count": null,
   "metadata": {},
   "outputs": [],
   "source": [
    "#Merging the GDL maps with the GADM\n",
    "##Make xy event layer fo the GADM file\n",
    "    print(\"Make XY event layer from GADM to extract the centroids\")\n",
    "    arcpy.management.MakeXYEventLayer(\"gadm36_GID_1\", \"INSIDE_X\", \"INSIDE_Y\", \"gadm36_GID_1_Layer\", \"GEOGCS['GCS_WGS_1984',DATUM['D_WGS_1984',SPHEROID['WGS_1984',6378137.0,298.257223563]],PRIMEM['Greenwich',0.0],UNIT['Degree',0.0174532925199433]];-400 -400 1000000000;-100000 10000;-100000 10000;8.98315284119521E-09;0.001;0.001;IsHighPrecision\", None)\n",
    "\n",
    "##Joining the centroids of the GADM layer witht GDL shapefile\n",
    "    print(\"Join GADM and GDL maps\")\n",
    "    arcpy.analysis.SpatialJoin(\"gadm36_GID_1_Layer\", \"GDL Shapefiles V4\", r\"C:\\Users\\Owner\\AppData\\Local\\Temp\\ArcGISProTemp9056\\f83a6d18-c5f5-44c2-bb69-b0d44b9896c3\\Default.gdb\\gadm36_GID_1_Layer_SpatialJo\", \"JOIN_ONE_TO_ONE\", \"KEEP_ALL\", 'GID_1 \"GID_1\" true true false 8 Text 0 0,First,#,gadm36_GID_1_Layer,GID_1,0,8;COUNT \"COUNT\" true true false 20 Double 0 0,First,#,gadm36_GID_1_Layer,COUNT,-1,-1;INSIDE_X \"INSIDE_X\" true true false 19 Double 0 0,First,#,gadm36_GID_1_Layer,INSIDE_X,-1,-1;INSIDE_Y \"INSIDE_Y\" true true false 19 Double 0 0,First,#,gadm36_GID_1_Layer,INSIDE_Y,-1,-1;GDLcode \"GDLcode\" true true false 80 Text 0 0,First,#,GDL Shapefiles V4,GDLcode,0,80;constant \"constant\" true true false 80 Text 0 0,First,#,GDL Shapefiles V4,constant,0,80;iso_code \"iso_code\" true true false 80 Text 0 0,First,#,GDL Shapefiles V4,iso_code,0,80;country \"country\" true true false 80 Text 0 0,First,#,GDL Shapefiles V4,country,0,80;region \"region\" true true false 100 Text 0 0,First,#,GDL Shapefiles V4,region,0,100;shdi \"shdi\" true true false 24 Double 15 23,First,#,GDL Shapefiles V4,shdi,-1,-1', \"INTERSECT\", \"0.00001 DecimalDegrees\", '')\n",
    "\n",
    "##Exporting the output join to excel\n",
    "    print(\"Exporting the join output to excel\")\n",
    "    arcpy.conversion.TableToExcel(\"gadm36_GID_1_Layer_SpatialJo\", r\"G:\\My Drive\\Armed_conflicts\\GADM_X_GID.xlsx\", \"NAME\", \"CODE\")"
   ]
  },
  {
   "cell_type": "markdown",
   "metadata": {},
   "source": [
    "# Zonal Statistics of the precipitation data"
   ]
  },
  {
   "cell_type": "code",
   "execution_count": null,
   "metadata": {},
   "outputs": [],
   "source": [
    "#Zonal statistics for standardized precipiation\n",
    "    print(\"Setting up the variables\")\n",
    "    Input_folder = \"Level\"\n",
    "    Output_folder = \"Zonal_stat_at_the_level\"        \n",
    "\n",
    "    arcpy.env.workspace = Woriking_env + Input_folder\n",
    "    Raster_list = arcpy.ListRasters(\"chirps*\", \"TIF\")\n",
    "\n",
    "#Zonal statistics per GID_1\n",
    "    for raster in Raster_list:\n",
    "        #Set inner variables\n",
    "        print(\"defining variables\")\n",
    "        raster_id = raster[12:16]\n",
    "        out_table = Woriking_env+Output_folder+\"/table_\"+raster_id+\".dbf\"\n",
    "        \n",
    "        print(\"Working on raster \"+raster_id)\n",
    "        arcpy.sa.ZonalStatisticsAsTable(in_zone_data, zone_field, raster, out_table, \"DATA\", \"ALL\", \"CURRENT_SLICE\")"
   ]
  },
  {
   "cell_type": "markdown",
   "metadata": {},
   "source": [
    "# Zonal statistics of the population data by regions"
   ]
  },
  {
   "cell_type": "code",
   "execution_count": null,
   "metadata": {},
   "outputs": [],
   "source": [
    "#Zonal statistics of population by countries\n",
    "    #Defining the local variables\n",
    "    print(\"defining variables\")\n",
    "    zone_field = \"GID_1\"\n",
    "    raster = \"Location_of_the_population_raster_here\"\n",
    "    out_table = \"Output_total_population_here\"\n",
    "\n",
    "    #Performing the zonal statistics\n",
    "    print(\"Zonal statistics\")\n",
    "    arcpy.sa.ZonalStatisticsAsTable(in_zone_data, zone_field, raster, out_table, \"DATA\", \"ALL\", \"CURRENT_SLICE\")"
   ]
  }
 ],
 "metadata": {
  "kernelspec": {
   "display_name": "Python 3 (ipykernel)",
   "language": "python",
   "name": "python3"
  },
  "language_info": {
   "codemirror_mode": {
    "name": "ipython",
    "version": 3
   },
   "file_extension": ".py",
   "mimetype": "text/x-python",
   "name": "python",
   "nbconvert_exporter": "python",
   "pygments_lexer": "ipython3",
   "version": "3.9.7"
  }
 },
 "nbformat": 4,
 "nbformat_minor": 2
}
